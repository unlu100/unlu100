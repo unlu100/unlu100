{
  "nbformat": 4,
  "nbformat_minor": 0,
  "metadata": {
    "colab": {
      "name": "BayesianBWM.ipynb adlı not defterinin kopyası",
      "provenance": [],
      "collapsed_sections": [],
      "toc_visible": true,
      "include_colab_link": true
    },
    "kernelspec": {
      "name": "python3",
      "display_name": "Python 3"
    },
    "language_info": {
      "name": "python"
    }
  },
  "cells": [
    {
      "cell_type": "markdown",
      "metadata": {
        "id": "view-in-github",
        "colab_type": "text"
      },
      "source": [
        "<a href=\"https://colab.research.google.com/github/unlu100/unlu100/blob/main/BayesianBWM_ipynb_adl%C4%B1_not_defterinin_kopyas%C4%B1.ipynb\" target=\"_parent\"><img src=\"https://colab.research.google.com/assets/colab-badge.svg\" alt=\"Open In Colab\"/></a>"
      ]
    },
    {
      "cell_type": "markdown",
      "metadata": {
        "id": "pLQ3KbnASKO6"
      },
      "source": [
        "# Execution guide\n",
        "To execute each cell, press **SHIFT + ENTER**!\n",
        "\n"
      ]
    },
    {
      "cell_type": "code",
      "metadata": {
        "id": "n1watMAbJ6p6"
      },
      "source": [
        "!pip install jax==0.2.13\n",
        "!pip install jaxlib==0.1.65\n",
        "!pip install numpyro==0.7.2"
      ],
      "execution_count": null,
      "outputs": []
    },
    {
      "cell_type": "markdown",
      "source": [
        "# Yeni Bölüm"
      ],
      "metadata": {
        "id": "b2VDzbRYVU0m"
      }
    },
    {
      "cell_type": "markdown",
      "metadata": {
        "id": "71VNHfPxNXye"
      },
      "source": [
        "# This section includes the required libraries for executing the Bayesian BWM\n"
      ]
    },
    {
      "cell_type": "code",
      "metadata": {
        "id": "UYUG2SVsKrhE"
      },
      "source": [
        "import numpy as np\n",
        "import numpyro\n",
        "from numpyro.infer import MCMC, NUTS, HMC\n",
        "import numpyro.distributions as dist\n",
        "from jax import random\n"
      ],
      "execution_count": null,
      "outputs": []
    },
    {
      "cell_type": "markdown",
      "metadata": {
        "id": "EB_Cd8siQ00l"
      },
      "source": [
        "#Main functions\n",
        "This section includes the main functions required for executing the Bayesian BWM:\n",
        "\n",
        "\n",
        "1.   **PyroModelBayesianBWM**: The function that specifies the probabilistic model with the Numpyro library\n",
        "2.   **BayesianBWM**: The main function that takes as inputs two matrices of Best-to-Others and Others-to-Worst of all decision-makers, and return the aggregated weights\n",
        "\n",
        "3. **Credal Ranking**: This function visualizes the weighted directed graph for the credal ranking\n",
        "\n",
        "Please **DO NOT CHANGE** these functions when you copy the code for yourself!\n",
        "\n"
      ]
    },
    {
      "cell_type": "code",
      "metadata": {
        "id": "NIMmKK8z_4hL"
      },
      "source": [
        "##################### The Numpyro model for Bayesian BWM\n",
        "def PyroModelBayesianBWM(a_b,a_w):\n",
        "    aw_tc = np.sum(a_w, axis=1)\n",
        "    ab_tc = np.sum(a_b, axis=1)\n",
        "    dm_no, c_no = a_w.shape \n",
        "    w_star = numpyro.sample(\"wStar\", dist.Dirichlet(0.01*np.ones(c_no)))\n",
        "    gamma_star = numpyro.sample(\"gammaStar\", dist.Gamma(0.01, 0.01))\n",
        "    \n",
        "    with numpyro.plate(\"dm_i\", dm_no):\n",
        "        w = numpyro.sample(\"w\", dist.Dirichlet(gamma_star*w_star))\n",
        "\n",
        "        inv_w = 1 / w\n",
        "        inv_w /= np.sum(inv_w)\n",
        "        numpyro.sample('a_w',dist.Multinomial(probs=w, total_count=aw_tc), obs=a_w)\n",
        "        numpyro.sample('a_b',dist.Multinomial(probs=inv_w, total_count=ab_tc), obs=a_b)\n",
        "\n",
        "\n",
        "##################### Bayesian BWM main function\n",
        "def BayesianBWM(ab,aw):\n",
        "  HMC_kernel = HMC(PyroModelBayesianBWM)\n",
        "\n",
        "  numpyro.set_host_device_count(4)\n",
        "\n",
        "  mcmc = MCMC(HMC_kernel, num_samples=5000, num_warmup=2000, num_chains=3, chain_method='parallel')\n",
        "  rng_key = random.PRNGKey(0)\n",
        "  mcmc.run(rng_key, ab, aw)\n",
        "\n",
        "  posterior_samples = mcmc.get_samples()\n",
        "\n",
        "  return posterior_samples[\"wStar\"], posterior_samples['w']\n",
        "\n",
        "\n",
        "##################### Visualization of credal ranking\n",
        "def CredalRanking(wStar, criteria_name):\n",
        "  import math\n",
        "  import networkx as nx\n",
        "  import matplotlib.pyplot as plt\n",
        "  from matplotlib.colors import Normalize\n",
        "  import seaborn as sns\n",
        "  import matplotlib.cm as cmx\n",
        "\n",
        "\n",
        "  def roundUp(n, d=2):\n",
        "      d = int('1' + ('0' * d))\n",
        "      return math.ceil(n * d) / d\n",
        "\n",
        "  # np.mean(w_star,axis=0)\n",
        "  n_c = wStar.shape[1]\n",
        "  w = np.zeros((n_c, n_c))\n",
        "\n",
        "  for i in range(n_c):\n",
        "    for j in range(i+1, n_c):\n",
        "      w_ij = np.sum(wStar[:,i] > wStar[:,j])\n",
        "      w_ji = np.sum(wStar[:,i] < wStar[:,j])\n",
        "      if w_ij > w_ji:\n",
        "        w[i,j] = roundUp((w_ij / wStar.shape[0]), 2)\n",
        "      else:\n",
        "        w[j,i] = roundUp((w_ji / wStar.shape[0]), 2)\n",
        "\n",
        "\n",
        "  colors = sns.color_palette(None, n_c)\n",
        "\n",
        "  plt.figure(figsize=(12,12))\n",
        "\n",
        "  # Create DiGraph from w\n",
        "  G = nx.from_numpy_matrix(w, create_using=nx.DiGraph)\n",
        "\n",
        "  # Use spring_layout to handle positioning of graph\n",
        "  layout = nx.kamada_kawai_layout(G)\n",
        "\n",
        "\n",
        "  # Color mapping\n",
        "  colors = plt.cm.jet #sns.color_palette(None, n_c)\n",
        "  cNorm  = Normalize(vmin=0, vmax=n_c-1)\n",
        "  scalarMap = cmx.ScalarMappable(norm=cNorm, cmap=colors)\n",
        "  values = [node for node in G.nodes()]\n",
        "\n",
        "  # Using a figure to use it as a parameter when calling nx.draw_networkx\n",
        "  f = plt.figure(1)\n",
        "  ax = f.add_subplot(1,1,1)\n",
        "  for label in criteria_name:\n",
        "      ax.plot([0],[0],color=scalarMap.to_rgba(criteria_name[label]),label=label)\n",
        "\n",
        "  # Draw the graph using the layout\n",
        "  nx.draw(G, layout, with_labels=True, node_size=2000, edgecolors='black', node_color=values,ax=ax)\n",
        "\n",
        "  # Get weights of each edge and assign to labels\n",
        "  labels = nx.get_edge_attributes(G, \"weight\")\n",
        "\n",
        "  # Draw edge labels using layout and list of labels\n",
        "  nx.draw_networkx_edge_labels(G, pos=layout, edge_labels=labels)\n",
        "\n",
        "  # Setting it to how it was looking before.                                                                                                              \n",
        "  plt.axis('off')\n",
        "  f.set_facecolor('w')\n",
        "\n",
        "  plt.legend()\n",
        "\n",
        "  f.tight_layout()\n",
        "  plt.show()\n",
        "  \n",
        "\n"
      ],
      "execution_count": null,
      "outputs": []
    },
    {
      "cell_type": "markdown",
      "metadata": {
        "id": "GQVLxssYSVku"
      },
      "source": [
        "#Example Execution:\n",
        "\n",
        "Define two arrays with the same size, one for Best-to-Others (A_B) and one for Others-to-Worst (A_W). Each row in these matrices corresponds to the preferences of a decision-maker!\n",
        "\n",
        "Also, specify the name of criteria for visualizing the credal ranking!"
      ]
    },
    {
      "cell_type": "code",
      "metadata": {
        "id": "Qbg0vsNZFhEs"
      },
      "source": [
        "A_B =  np.array([\n",
        "       [3, 4, 6, 1, 5, 2, 9, 7],\n",
        "       [1, 2, 8, 4, 5, 3, 9, 6],\n",
        "       [2, 2, 3, 1, 5, 5, 9, 8],\n",
        "       [2, 1, 8, 2, 9, 3, 8, 8],\n",
        "       [2, 4, 9, 1, 4, 3, 5, 5],\n",
        "       [1, 2, 9, 1, 3, 5, 5, 4]])\n",
        "\n",
        "A_W =  np.array([\n",
        "      [ 7, 6, 4, 9, 5, 8, 1, 3],\n",
        "      [ 9, 8, 2, 5, 4, 5, 1, 3],\n",
        "      [ 8, 8, 5, 9, 5, 5, 1, 2],\n",
        "      [ 8, 9, 2, 8, 1, 8, 2, 2],\n",
        "      [ 8, 6, 1, 9, 6, 7, 4, 4],\n",
        "      [ 9, 8, 1, 9, 7, 5, 5, 6]]) \n",
        "\n",
        "criteria_name = {'Cost of delivery': 0, 'Lead time':1, 'Non-competitor':2, 'Price':3,'Production fac.':4, 'Quality':5, 'Compliance':6, 'Sus. per':7}\n",
        "\n",
        "wStar, w = BayesianBWM(A_B,A_W)\n",
        "\n",
        "print('The average of the aggregated weight distribution is:', np.mean(wStar,axis=0))"
      ],
      "execution_count": null,
      "outputs": []
    },
    {
      "cell_type": "code",
      "metadata": {
        "id": "g5ayYTwBOu_N"
      },
      "source": [
        "CredalRanking(wStar, criteria_name)"
      ],
      "execution_count": null,
      "outputs": []
    },
    {
      "cell_type": "code",
      "source": [
        ""
      ],
      "metadata": {
        "id": "AAWFNplrBqI6"
      },
      "execution_count": null,
      "outputs": []
    }
  ]
}